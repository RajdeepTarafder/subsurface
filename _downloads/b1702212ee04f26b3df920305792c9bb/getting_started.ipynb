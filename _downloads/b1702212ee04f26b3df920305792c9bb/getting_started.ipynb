{
  "cells": [
    {
      "cell_type": "code",
      "execution_count": null,
      "metadata": {
        "collapsed": false
      },
      "outputs": [],
      "source": [
        "%matplotlib inline\nfrom pyvista import set_plot_theme\nset_plot_theme('document')"
      ]
    },
    {
      "cell_type": "markdown",
      "metadata": {},
      "source": [
        "\n# Getting started\n"
      ]
    },
    {
      "cell_type": "markdown",
      "metadata": {},
      "source": [
        "Authors: Miguel de la Varga and Alexander Juestel\n\nThis example how to read into subsurface structures a bunch of different\ndata such as:\n\n- well data -> from csv all in one single file\n\n- topography -> from tif\n\n- Cross sections with textures from trace -> shp, png\n\n- Exported gempy model from netcdf\n\n"
      ]
    },
    {
      "cell_type": "code",
      "execution_count": null,
      "metadata": {
        "collapsed": false
      },
      "outputs": [],
      "source": [
        "import shutil\nimport pandas as pd\nimport subsurface as ss\nimport pooch"
      ]
    },
    {
      "cell_type": "markdown",
      "metadata": {},
      "source": [
        "## Read wells:\nWe can read well data - using welly as backend. First we need to have the\ndata in the right format for digesting.\n\n"
      ]
    },
    {
      "cell_type": "code",
      "execution_count": null,
      "metadata": {
        "collapsed": false
      },
      "outputs": [],
      "source": [
        "# Pulling data example\nmodel_file = pooch.retrieve(\n    url=\"https://github.com/cgre-aachen/gempy_data/raw/master/\"\n        \"data/subsurface/example1.zip\",\n    known_hash=None\n)\n\ndata_path = model_file[:-4]\nshutil.unpack_archive(model_file, extract_dir=model_file[:-4])\n\n# Read original file\nori_wells = pd.read_csv(data_path + '/wells.csv')\n\n# Add top and base columns\nwells_fixed = ss.io.wells.add_tops_from_base_and_altitude_in_place(\n    ori_wells,\n    'Index',\n    'Z',\n    'Altitude'\n)\n\nwells_fixed['md'] = wells_fixed['top']\nwells_fixed.to_csv(data_path + '/wells.csv')\nwells_fixed"
      ]
    },
    {
      "cell_type": "markdown",
      "metadata": {},
      "source": [
        "Now we can read the csv files into subsurface.UnstructuredData\n\n"
      ]
    },
    {
      "cell_type": "code",
      "execution_count": null,
      "metadata": {
        "collapsed": false
      },
      "outputs": [],
      "source": [
        "wells_unstructured_data = ss.io.read_wells_to_unstruct(\n    collar_file=data_path + '/wells.csv',\n    read_collar_kwargs={\n        'usecols': ['Index', 'X', 'Y', 'Altitude'],\n        'header': 0\n    },\n    survey_file=data_path + '/wells.csv',\n    read_survey_kwargs={\n        'index_col': 'Index',\n        'usecols': ['Index', 'md']  # if incl and azi not given -> well vertical\n    },\n    lith_file=data_path + '/wells.csv',\n    read_lith_kwargs={\n        'index_col': 'Index',\n        'usecols': ['Index', 'top', 'base', 'formation'],\n        'columns_map': {'top': 'top',\n                        'base': 'base',\n                        'formation': 'component lith',\n                        }\n    }\n\n)"
      ]
    },
    {
      "cell_type": "code",
      "execution_count": null,
      "metadata": {
        "collapsed": false
      },
      "outputs": [],
      "source": [
        "wells_unstructured_data"
      ]
    }
  ],
  "metadata": {
    "kernelspec": {
      "display_name": "Python 3",
      "language": "python",
      "name": "python3"
    },
    "language_info": {
      "codemirror_mode": {
        "name": "ipython",
        "version": 3
      },
      "file_extension": ".py",
      "mimetype": "text/x-python",
      "name": "python",
      "nbconvert_exporter": "python",
      "pygments_lexer": "ipython3",
      "version": "3.7.9"
    }
  },
  "nbformat": 4,
  "nbformat_minor": 0
}