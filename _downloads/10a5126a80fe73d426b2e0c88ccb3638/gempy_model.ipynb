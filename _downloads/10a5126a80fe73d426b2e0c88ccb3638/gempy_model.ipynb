{
  "cells": [
    {
      "cell_type": "code",
      "execution_count": null,
      "metadata": {
        "collapsed": false
      },
      "outputs": [],
      "source": [
        "%matplotlib inline\nfrom pyvista import set_plot_theme\nset_plot_theme('document')"
      ]
    },
    {
      "cell_type": "markdown",
      "metadata": {},
      "source": [
        "\n# Reading Simple GemPy model in Subsurface\n"
      ]
    },
    {
      "cell_type": "code",
      "execution_count": null,
      "metadata": {
        "collapsed": false
      },
      "outputs": [],
      "source": [
        "import sys\n\nsys.path.insert(0, 'subsurface/')\nimport pooch\nimport subsurface as ss\nimport subsurface.reader.read_netcdf\n\n\n# Pull gempy model\nmodel_files = pooch.retrieve(\n    url=\"https://github.com/cgre-aachen/gempy_data/raw/master/\"\n        \"data/subsurface/example1.zip\",\n    known_hash=\"fb79a63eeb874cf0cdca557106c62c67eace23811db5935e57c3448fed7f8978\",\n    processor=pooch.Unzip()\n)"
      ]
    },
    {
      "cell_type": "code",
      "execution_count": null,
      "metadata": {
        "collapsed": false
      },
      "outputs": [],
      "source": [
        "fname, = [i for i in model_files if \"meshes.nc\" in i]\ndataset = ss.reader.read_netcdf.read_unstruct(fname)"
      ]
    },
    {
      "cell_type": "code",
      "execution_count": null,
      "metadata": {
        "collapsed": false
      },
      "outputs": [],
      "source": [
        "obj = ss.TriSurf(dataset)\nprint(obj.mesh.points_attributes_to_dict)\n\nmesh = ss.visualization.to_pyvista_mesh(obj)\nss.visualization.pv_plot([mesh])"
      ]
    }
  ],
  "metadata": {
    "kernelspec": {
      "display_name": "Python 3",
      "language": "python",
      "name": "python3"
    },
    "language_info": {
      "codemirror_mode": {
        "name": "ipython",
        "version": 3
      },
      "file_extension": ".py",
      "mimetype": "text/x-python",
      "name": "python",
      "nbconvert_exporter": "python",
      "pygments_lexer": "ipython3",
      "version": "3.8.9"
    }
  },
  "nbformat": 4,
  "nbformat_minor": 0
}